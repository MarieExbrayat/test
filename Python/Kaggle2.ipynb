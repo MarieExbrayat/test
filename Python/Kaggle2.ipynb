{
 "cells": [
  {
   "cell_type": "code",
   "execution_count": 2,
   "metadata": {},
   "outputs": [],
   "source": [
    "import pandas as pd\n",
    "import numpy as np      \n",
    "import matplotlib.pylab as plt\n",
    "import seaborn as sns\n",
    "plt.style.use('ggplot')\n",
    "pd.set_option('display.max_columns', 200)"
   ]
  },
  {
   "cell_type": "code",
   "execution_count": 3,
   "metadata": {},
   "outputs": [
    {
     "name": "stdout",
     "output_type": "stream",
     "text": [
      "Fichiers trouvés dans le dossier téléchargé :\n",
      " - movie_genre_classification_final.csv\n"
     ]
    }
   ],
   "source": [
    "import kagglehub\n",
    "import os\n",
    "\n",
    "# Télécharger le dataset (ou récupérer le chemin s'il est déjà téléchargé)\n",
    "path = kagglehub.dataset_download(\"therohithanand/movie-genre-classification\")\n",
    "\n",
    "# Étape 1 : Voir les fichiers dans le dossier\n",
    "print(\"Fichiers trouvés dans le dossier téléchargé :\")\n",
    "for fichier in os.listdir(path):\n",
    "    print(\" -\", fichier)\n",
    "\n",
    "# Étape 2 : Chemin vers le fichier CSV à lire\n",
    "# Adapte ici si le nom exact est différent\n",
    "csv_path = os.path.join(path, \"movie_genre_classification_final.csv\")\n",
    "\n",
    "# Étape 3 : Lire le CSV dans un DataFrame\n",
    "df = pd.read_csv(csv_path)"
   ]
  }
 ],
 "metadata": {
  "kernelspec": {
   "display_name": "Python 3",
   "language": "python",
   "name": "python3"
  },
  "language_info": {
   "codemirror_mode": {
    "name": "ipython",
    "version": 3
   },
   "file_extension": ".py",
   "mimetype": "text/x-python",
   "name": "python",
   "nbconvert_exporter": "python",
   "pygments_lexer": "ipython3",
   "version": "3.11.12"
  }
 },
 "nbformat": 4,
 "nbformat_minor": 2
}
