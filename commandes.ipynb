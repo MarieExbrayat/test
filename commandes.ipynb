{
 "cells": [
  {
   "cell_type": "markdown",
   "metadata": {},
   "source": [
    "# Commandes utiles\n",
    "\n",
    "## GitHub"
   ]
  },
  {
   "cell_type": "markdown",
   "metadata": {},
   "source": [
    "Connexion à Github à partir du terminal  \n",
    "-- Penser à utiliser le terminal classique zsh ou python  \n",
    "-- lorsque sync ne fonctionne pas > connexion > reload > sync   \n",
    "\n",
    "git config --global user.name \"MarieExbrayat\"  \n",
    "git config --global user.email \"marie.exbrayat29@gmail.com\""
   ]
  },
  {
   "cell_type": "markdown",
   "metadata": {},
   "source": [
    "## VsCode > Python"
   ]
  },
  {
   "cell_type": "markdown",
   "metadata": {},
   "source": [
    "Installation de librairies directement dans la cellule\n",
    "%pip install"
   ]
  }
 ],
 "metadata": {
  "language_info": {
   "name": "python"
  }
 },
 "nbformat": 4,
 "nbformat_minor": 2
}
