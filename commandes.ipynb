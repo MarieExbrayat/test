{
 "cells": [
  {
   "cell_type": "markdown",
   "metadata": {},
   "source": [
    "# Commandes utiles\n",
    "\n",
    "## GitHub"
   ]
  },
  {
   "cell_type": "markdown",
   "metadata": {},
   "source": [
    "Connexion à Github à partir du terminal  \n",
    "-- Penser à utiliser le terminal classique zsh ou python  \n",
    "-- lorsque sync ne fonctionne pas > connexion > reload > sync   \n",
    "\n",
    "git config --global user.name \"MarieExbrayat\"  \n",
    "git config --global user.email \"marie.exbrayat29@gmail.com\""
   ]
  },
  {
   "cell_type": "markdown",
   "metadata": {},
   "source": [
    "## VsCode > Python"
   ]
  },
  {
   "cell_type": "code",
   "execution_count": null,
   "metadata": {
    "vscode": {
     "languageId": "plaintext"
    }
   },
   "outputs": [],
   "source": [
    "import kagglehub\n",
    "import os\n",
    "\n",
    "# Télécharger le dataset (ou récupérer le chemin s'il est déjà téléchargé)\n",
    "path = kagglehub.dataset_download(\"robikscube/rollercoaster-database\")\n",
    "\n",
    "# Étape 1 : Voir les fichiers dans le dossier\n",
    "print(\"Fichiers trouvés dans le dossier téléchargé :\")\n",
    "for fichier in os.listdir(path):\n",
    "    print(\" -\", fichier)\n",
    "\n",
    "# Étape 2 : Chemin vers le fichier CSV à lire\n",
    "# Adapte ici si le nom exact est différent\n",
    "csv_path = os.path.join(path, \"coaster_db.csv\")\n",
    "\n",
    "# Étape 3 : Lire le CSV dans un DataFrame\n",
    "df = pd.read_csv(csv_path)"
   ]
  }
 ],
 "metadata": {
  "kernelspec": {
   "display_name": "Python 3",
   "language": "python",
   "name": "python3"
  },
  "language_info": {
   "codemirror_mode": {
    "name": "ipython",
    "version": 3
   },
   "file_extension": ".py",
   "mimetype": "text/x-python",
   "name": "python",
   "nbconvert_exporter": "python",
   "pygments_lexer": "ipython3",
   "version": "3.11.12"
  }
 },
 "nbformat": 4,
 "nbformat_minor": 2
}
